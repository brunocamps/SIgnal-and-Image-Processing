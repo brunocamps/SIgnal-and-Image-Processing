{
 "cells": [
  {
   "cell_type": "code",
   "execution_count": null,
   "metadata": {},
   "outputs": [],
   "source": [
    "import cv2\n",
    "import numpy as np\n",
    "import matplotlib.pyplot as plt\n",
    "\n",
    "#Baixar a imagem\n",
    "!wget \"https://raw.githubusercontent.com/brunocamps/SIgnal-and-Image-Processing/master/pieces3.png\"\n",
    "\n",
    "img = cv2.imread('pieces3.png')\n",
    "img = cv2.cvtColor(img,cv2.COLOR_BGR2RGB)\n",
    "\n",
    "\n",
    "#Threshold\n",
    "ret, threshed_img = cv2.threshold(cv2.cvtColor(img, cv2.COLOR_BGR2GRAY),\n",
    "                127, 255, cv2.THRESH_BINARY)\n",
    "\n",
    "#Encontrar contornos\n",
    "contours, order = cv2.findContours(threshed_img, cv2.RETR_TREE, cv2.CHAIN_APPROX_SIMPLE)\n",
    "\n",
    "for c in contours:\n",
    "    #Encontrar a bounding box\n",
    "    x, y, w, h = cv2.boundingRect(c)\n",
    "    cv2.rectangle(img, (x, y), (x+w, y+h), (0, 255, 0), 2)\n",
    "\n",
    "    rect = cv2.minAreaRect(c)\n",
    "    #calcular as coordenadas do objeto\n",
    "    box = cv2.boxPoints(rect)\n",
    "    #Normalizar coordenadas para inteiros\n",
    "    box = np.int0(box)\n",
    "    cv2.drawContours(img, [box], 0, (0, 0, 255))\n",
    "\n",
    "    #Encontrar o circulo mÃ­nimo\n",
    "    (x, y), radius = cv2.minEnclosingCircle(c)\n",
    "    #cast para inteiro\n",
    "    center = (int(x), int(y))\n",
    "    radius = int(radius)\n",
    "    img = cv2.circle(img, center, radius, (255, 0, 0), 2)\n",
    "\n",
    "print(len(contours)) #printar numero de contornos encontrados\n",
    "plt.figure(figsize=(8,8))\n",
    "plt.imshow(img)\n"
   ]
  }
 ],
 "metadata": {
  "kernelspec": {
   "display_name": "Python 3",
   "language": "python",
   "name": "python3"
  },
  "language_info": {
   "codemirror_mode": {
    "name": "ipython",
    "version": 3
   },
   "file_extension": ".py",
   "mimetype": "text/x-python",
   "name": "python",
   "nbconvert_exporter": "python",
   "pygments_lexer": "ipython3",
   "version": "3.7.4"
  }
 },
 "nbformat": 4,
 "nbformat_minor": 2
}
