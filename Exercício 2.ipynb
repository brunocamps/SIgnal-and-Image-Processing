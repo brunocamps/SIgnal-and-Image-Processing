{
 "cells": [
  {
   "cell_type": "code",
   "execution_count": 30,
   "metadata": {},
   "outputs": [
    {
     "data": {
      "text/plain": [
       "<matplotlib.image.AxesImage at 0x126fd56d0>"
      ]
     },
     "execution_count": 30,
     "metadata": {},
     "output_type": "execute_result"
    },
    {
     "data": {
      "image/png": "[encoded data removed]",
      "text/plain": [
       "<Figure size 576x576 with 1 Axes>"
      ]
     },
     "metadata": {
      "needs_background": "light"
     },
     "output_type": "display_data"
    }
   ],
   "source": [
    "import cv2 as cv\n",
    "import matplotlib.pyplot as plt\n",
    "import numpy as np\n",
    "\n",
    "\n",
    "\n",
    "\n",
    "img = cv.imread('moedas_105.jpg')\n",
    "img = cv.cvtColor(img,cv.COLOR_BGR2GRAY)\n",
    "\n",
    "# Binarizacao\n",
    "img_bin = img.copy()\n",
    "\n",
    "for lin in range(img.shape[0]):\n",
    "  for col in range(img.shape[1]):\n",
    "    if(img.item(lin, col) > 50):\n",
    "      img_bin.itemset((lin, col),0)\n",
    "    else: \n",
    "      img_bin.itemset((lin, col),255)\n",
    "    \n",
    "    \n",
    "#Extrair os contornos da imagem\n",
    "contorno, ordem = cv.findContours(img_bin, cv.RETR_EXTERNAL,cv.CHAIN_APPROX_SIMPLE)\n",
    "\n",
    "raio_list = []\n",
    "\n",
    "for c in contorno:\n",
    "  #Encontrar o bounding box\n",
    "  x,y,w,h = cv.boundingRect(c)\n",
    "  cv.rectangle(img_bin,(x,y),(x+w,y+h),(255,0,0),2)\n",
    "\n",
    "  #Encontrar o bounding box considerando a rotação do objeto\n",
    "  area = cv.minAreaRect(c)\n",
    "  box = cv.boxPoints(area)  # calcular as coordenadas do obj\n",
    "  box = np.int0(box)        # normalizar as coordenadas -> inteiros\n",
    "  #cv.drawContours(img1,[box],0,(0,0,255),2)\n",
    "\n",
    "  #Encontrar o Círculo Mínimo\n",
    "  (x,y), raio = cv.minEnclosingCircle(c)\n",
    "  centro = (int(x),int(y))  # cast para inteiro\n",
    "  raio = int(raio)          # cast para inteiro\n",
    "  #cv.circle(img1,centro,raio,(0,255,0),2)\n",
    "  raio_list.append(raio)\n",
    "  \n",
    "\n",
    "plt.figure(figsize=(8,8))\n",
    "plt.imshow(img_bin)  "
   ]
  },
  {
   "cell_type": "code",
   "execution_count": 31,
   "metadata": {},
   "outputs": [
    {
     "name": "stdout",
     "output_type": "stream",
     "text": [
      "[2, 0, 0, 0, 43, 36]\n"
     ]
    }
   ],
   "source": [
    "print(raio_list)"
   ]
  },
  {
   "cell_type": "code",
   "execution_count": 43,
   "metadata": {},
   "outputs": [
    {
     "name": "stdout",
     "output_type": "stream",
     "text": [
      "Área 1 = 5808.804816487527\n",
      "Área 2 = 4071.5040790523717\n"
     ]
    }
   ],
   "source": [
    "#Áreas das circunferências\n",
    "import math \n",
    "\n",
    "raio_1 = raio_list[4]\n",
    "raio_2 = raio_list[5]\n",
    "\n",
    "area_circ_1 = math.pi * float(raio_1**2)\n",
    "\n",
    "area_circ_2 = math.pi * float(raio_2**2)\n",
    "\n",
    "\n",
    "print(f\"Área 1 = {area_circ_1}\")\n",
    "print(f\"Área 2 = {area_circ_2}\")"
   ]
  },
  {
   "cell_type": "code",
   "execution_count": null,
   "metadata": {},
   "outputs": [],
   "source": []
  }
 ],
 "metadata": {
  "kernelspec": {
   "display_name": "Python 3",
   "language": "python",
   "name": "python3"
  },
  "language_info": {
   "codemirror_mode": {
    "name": "ipython",
    "version": 3
   },
   "file_extension": ".py",
   "mimetype": "text/x-python",
   "name": "python",
   "nbconvert_exporter": "python",
   "pygments_lexer": "ipython3",
   "version": "3.7.4"
  }
 },
 "nbformat": 4,
 "nbformat_minor": 2
}
